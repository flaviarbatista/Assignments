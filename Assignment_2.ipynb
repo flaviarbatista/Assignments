{
  "nbformat": 4,
  "nbformat_minor": 0,
  "metadata": {
    "colab": {
      "provenance": [],
      "authorship_tag": "ABX9TyN+svJGU7eaqSpT4fMtl3Yv",
      "include_colab_link": true
    },
    "kernelspec": {
      "name": "python3",
      "display_name": "Python 3"
    },
    "language_info": {
      "name": "python"
    }
  },
  "cells": [
    {
      "cell_type": "markdown",
      "metadata": {
        "id": "view-in-github",
        "colab_type": "text"
      },
      "source": [
        "<a href=\"https://colab.research.google.com/github/flaviarbatista/Assignments/blob/main/Assignment_2.ipynb\" target=\"_parent\"><img src=\"https://colab.research.google.com/assets/colab-badge.svg\" alt=\"Open In Colab\"/></a>"
      ]
    },
    {
      "cell_type": "markdown",
      "source": [
        "# **Assignment 2: Git and GitHub Version Control**\n",
        "### **Name:** Flavia Batista\n",
        "### **Course:** Data Analytics and Business Intelligence Analyst\n",
        "### **Institution:** Willis College"
      ],
      "metadata": {
        "id": "-iKPYBg_-OIO"
      }
    },
    {
      "cell_type": "markdown",
      "source": [
        "## GitHub Setup"
      ],
      "metadata": {
        "id": "b1gG_hiT-VlP"
      }
    },
    {
      "cell_type": "code",
      "execution_count": 1,
      "metadata": {
        "colab": {
          "base_uri": "https://localhost:8080/"
        },
        "id": "U45Bv46Q98GA",
        "outputId": "93fa7c01-3d77-4996-de06-166c72f6efce"
      },
      "outputs": [
        {
          "output_type": "stream",
          "name": "stdout",
          "text": [
            "Reading package lists... Done\n",
            "Building dependency tree... Done\n",
            "Reading state information... Done\n",
            "git is already the newest version (1:2.34.1-1ubuntu1.15).\n",
            "0 upgraded, 0 newly installed, 0 to remove and 41 not upgraded.\n"
          ]
        }
      ],
      "source": [
        "!apt-get install -y git\n",
        "!git config --global user.email \"flavia.bi.progress@gmail.com\"\n",
        "!git config --global user.name \"flaviarbatista\""
      ]
    },
    {
      "cell_type": "code",
      "source": [
        "import getpass, os\n",
        "token = getpass.getpass('Token')\n",
        "os.environ['GHTOKEN'] = token"
      ],
      "metadata": {
        "colab": {
          "base_uri": "https://localhost:8080/"
        },
        "id": "wSrYEt_nUW6W",
        "outputId": "2d52f4bd-755c-4712-fc09-bfbc642bdf02"
      },
      "execution_count": 2,
      "outputs": [
        {
          "name": "stdout",
          "output_type": "stream",
          "text": [
            "Token··········\n"
          ]
        }
      ]
    },
    {
      "cell_type": "markdown",
      "source": [
        "## Mount Google Drive"
      ],
      "metadata": {
        "id": "ivjYj_lz-jyt"
      }
    },
    {
      "cell_type": "code",
      "source": [
        "from google.colab import drive\n",
        "drive.mount('/content/drive', force_remount=True)"
      ],
      "metadata": {
        "colab": {
          "base_uri": "https://localhost:8080/"
        },
        "id": "uJnsl9Xt-kg1",
        "outputId": "10e0d5ee-b278-4306-838d-de56c34a6c3a"
      },
      "execution_count": 3,
      "outputs": [
        {
          "output_type": "stream",
          "name": "stdout",
          "text": [
            "Mounted at /content/drive\n"
          ]
        }
      ]
    },
    {
      "cell_type": "markdown",
      "source": [
        "## Clone the Repository"
      ],
      "metadata": {
        "id": "aoDF_yAgR75E"
      }
    },
    {
      "cell_type": "code",
      "source": [
        "!git clone https://github.com/flaviarbatista/Assignments.git"
      ],
      "metadata": {
        "colab": {
          "base_uri": "https://localhost:8080/"
        },
        "id": "pt38brfk-nEH",
        "outputId": "3d06ebff-03fc-468b-f311-6eebb6391db3"
      },
      "execution_count": 4,
      "outputs": [
        {
          "output_type": "stream",
          "name": "stdout",
          "text": [
            "Cloning into 'Assignments'...\n",
            "remote: Enumerating objects: 33, done.\u001b[K\n",
            "remote: Counting objects: 100% (33/33), done.\u001b[K\n",
            "remote: Compressing objects: 100% (31/31), done.\u001b[K\n",
            "remote: Total 33 (delta 17), reused 3 (delta 0), pack-reused 0 (from 0)\u001b[K\n",
            "Receiving objects: 100% (33/33), 15.00 KiB | 15.00 MiB/s, done.\n",
            "Resolving deltas: 100% (17/17), done.\n"
          ]
        }
      ]
    },
    {
      "cell_type": "markdown",
      "source": [
        "## Inspect"
      ],
      "metadata": {
        "id": "ig2WEpt2SEXk"
      }
    },
    {
      "cell_type": "code",
      "source": [
        "!ls \"/content/drive/MyDrive/Colab Notebooks\""
      ],
      "metadata": {
        "colab": {
          "base_uri": "https://localhost:8080/"
        },
        "id": "QeBgsfe8SAsh",
        "outputId": "1afced2a-9f86-4dc8-99f1-168de2741645"
      },
      "execution_count": 5,
      "outputs": [
        {
          "output_type": "stream",
          "name": "stdout",
          "text": [
            "Assignment_2.ipynb\n"
          ]
        }
      ]
    },
    {
      "cell_type": "code",
      "source": [
        "!cp \"/content/drive/MyDrive/Colab Notebooks/Assignment_2.ipynb\" ."
      ],
      "metadata": {
        "id": "Cdox_fWrSIs4"
      },
      "execution_count": 6,
      "outputs": []
    },
    {
      "cell_type": "markdown",
      "source": [
        "## Changing to the repository directory"
      ],
      "metadata": {
        "id": "9bx0wuL5SpJx"
      }
    },
    {
      "cell_type": "code",
      "source": [
        "%cd Assignments"
      ],
      "metadata": {
        "colab": {
          "base_uri": "https://localhost:8080/"
        },
        "id": "5gy8WwLvSrvW",
        "outputId": "1c623a17-d49e-4c9c-b2f2-2cdd4e30abb1"
      },
      "execution_count": 7,
      "outputs": [
        {
          "output_type": "stream",
          "name": "stdout",
          "text": [
            "/content/Assignments\n"
          ]
        }
      ]
    },
    {
      "cell_type": "markdown",
      "source": [
        "## List the files and directories in the current working directory"
      ],
      "metadata": {
        "id": "jcoemFkjSvMC"
      }
    },
    {
      "cell_type": "code",
      "source": [
        "%ls"
      ],
      "metadata": {
        "colab": {
          "base_uri": "https://localhost:8080/"
        },
        "id": "p0BQZM62StLn",
        "outputId": "3ffb6e69-04fa-40a5-a0d2-2c9752f2547c"
      },
      "execution_count": 8,
      "outputs": [
        {
          "output_type": "stream",
          "name": "stdout",
          "text": [
            "Assignment_2.ipynb  git_github_exercise.ipynb  README.md\n"
          ]
        }
      ]
    },
    {
      "cell_type": "markdown",
      "source": [
        "## Check Git Status"
      ],
      "metadata": {
        "id": "8XrqGVswUSrz"
      }
    },
    {
      "cell_type": "code",
      "source": [
        "!git status"
      ],
      "metadata": {
        "colab": {
          "base_uri": "https://localhost:8080/"
        },
        "id": "yXY82WSaUQuD",
        "outputId": "c7d06b67-5087-49c1-c07a-9f9706525fc6"
      },
      "execution_count": 9,
      "outputs": [
        {
          "output_type": "stream",
          "name": "stdout",
          "text": [
            "On branch main\n",
            "Your branch is up to date with 'origin/main'.\n",
            "\n",
            "nothing to commit, working tree clean\n"
          ]
        }
      ]
    },
    {
      "cell_type": "markdown",
      "source": [
        "# Git and GitHub Exercise  \n",
        "This notebook demonstrates basic Git operations."
      ],
      "metadata": {
        "id": "PvQ6D6hqTf04"
      }
    },
    {
      "cell_type": "markdown",
      "source": [
        "##  Python function"
      ],
      "metadata": {
        "id": "oPIQ0U9aTjIX"
      }
    },
    {
      "cell_type": "code",
      "source": [
        "def multiply_numbers(a, b):\n",
        "    return a * b\n",
        "print(multiply_numbers(3, 4))"
      ],
      "metadata": {
        "colab": {
          "base_uri": "https://localhost:8080/"
        },
        "id": "k5vyfkDLSxtH",
        "outputId": "58a3abc8-f599-48c7-902a-d6de1bd30cce"
      },
      "execution_count": 10,
      "outputs": [
        {
          "output_type": "stream",
          "name": "stdout",
          "text": [
            "12\n"
          ]
        }
      ]
    },
    {
      "cell_type": "markdown",
      "source": [
        "## Add and commit the notebook in the repository"
      ],
      "metadata": {
        "id": "lt96TMIlTwrt"
      }
    },
    {
      "cell_type": "code",
      "source": [
        "!git add --all"
      ],
      "metadata": {
        "id": "Gn7D-JyfTmoJ"
      },
      "execution_count": 11,
      "outputs": []
    },
    {
      "cell_type": "code",
      "source": [
        "!git add Assignment_2.ipynb"
      ],
      "metadata": {
        "id": "jCKP76elUGoq"
      },
      "execution_count": 12,
      "outputs": []
    },
    {
      "cell_type": "code",
      "source": [
        "!git commit -m \"Add initial notebook with multiplication function\""
      ],
      "metadata": {
        "colab": {
          "base_uri": "https://localhost:8080/"
        },
        "id": "2pgx1d5bUHCR",
        "outputId": "b97c2f81-2395-4379-c324-b77755e134e8"
      },
      "execution_count": 13,
      "outputs": [
        {
          "output_type": "stream",
          "name": "stdout",
          "text": [
            "On branch main\n",
            "Your branch is up to date with 'origin/main'.\n",
            "\n",
            "nothing to commit, working tree clean\n"
          ]
        }
      ]
    },
    {
      "cell_type": "code",
      "source": [
        "!git status"
      ],
      "metadata": {
        "colab": {
          "base_uri": "https://localhost:8080/"
        },
        "id": "Yfa6fzeMVLDN",
        "outputId": "7adc4efa-c6a2-4993-bcdb-1215199ef400"
      },
      "execution_count": 14,
      "outputs": [
        {
          "output_type": "stream",
          "name": "stdout",
          "text": [
            "On branch main\n",
            "Your branch is up to date with 'origin/main'.\n",
            "\n",
            "nothing to commit, working tree clean\n"
          ]
        }
      ]
    },
    {
      "cell_type": "markdown",
      "source": [
        "## Push the changes to GitHub"
      ],
      "metadata": {
        "id": "Ci0Z2PuBVcs1"
      }
    },
    {
      "cell_type": "code",
      "source": [
        "!git remote -v"
      ],
      "metadata": {
        "colab": {
          "base_uri": "https://localhost:8080/"
        },
        "id": "d40TDxZ6VNVv",
        "outputId": "f6503d04-f054-4c81-c8d2-0d211ebc9ccd"
      },
      "execution_count": 15,
      "outputs": [
        {
          "output_type": "stream",
          "name": "stdout",
          "text": [
            "origin\thttps://github.com/flaviarbatista/Assignments.git (fetch)\n",
            "origin\thttps://github.com/flaviarbatista/Assignments.git (push)\n"
          ]
        }
      ]
    },
    {
      "cell_type": "code",
      "source": [
        "!git fetch origin\n",
        "!git pull origin main"
      ],
      "metadata": {
        "colab": {
          "base_uri": "https://localhost:8080/"
        },
        "id": "ikEWjSGjVOo2",
        "outputId": "95e77365-a86d-44c3-e840-09fb33ec21ec"
      },
      "execution_count": 16,
      "outputs": [
        {
          "output_type": "stream",
          "name": "stdout",
          "text": [
            "remote: Enumerating objects: 5, done.\u001b[K\n",
            "remote: Counting objects:  20% (1/5)\u001b[K\rremote: Counting objects:  40% (2/5)\u001b[K\rremote: Counting objects:  60% (3/5)\u001b[K\rremote: Counting objects:  80% (4/5)\u001b[K\rremote: Counting objects: 100% (5/5)\u001b[K\rremote: Counting objects: 100% (5/5), done.\u001b[K\n",
            "remote: Compressing objects:  33% (1/3)\u001b[K\rremote: Compressing objects:  66% (2/3)\u001b[K\rremote: Compressing objects: 100% (3/3)\u001b[K\rremote: Compressing objects: 100% (3/3), done.\u001b[K\n",
            "Unpacking objects:  33% (1/3)\rUnpacking objects:  66% (2/3)\rUnpacking objects: 100% (3/3)\rUnpacking objects: 100% (3/3), 1.35 KiB | 1.35 MiB/s, done.\n",
            "remote: Total 3 (delta 2), reused 0 (delta 0), pack-reused 0 (from 0)\u001b[K\n",
            "From https://github.com/flaviarbatista/Assignments\n",
            "   ea292e5..85b88e7  main       -> origin/main\n",
            "From https://github.com/flaviarbatista/Assignments\n",
            " * branch            main       -> FETCH_HEAD\n",
            "Updating ea292e5..85b88e7\n",
            "Fast-forward\n",
            " Assignment_2.ipynb | 189 \u001b[32m+++++++++++++++++++++++++++++++++++++++++++++++\u001b[m\u001b[31m------\u001b[m\n",
            " 1 file changed, 168 insertions(+), 21 deletions(-)\n"
          ]
        }
      ]
    },
    {
      "cell_type": "code",
      "source": [
        "!git push https://$GHTOKEN@github.com/flaviarbatista/Assignments.git main"
      ],
      "metadata": {
        "colab": {
          "base_uri": "https://localhost:8080/"
        },
        "id": "kuXZFtyGVTGh",
        "outputId": "26368318-e17a-4587-f033-a1e25e0a6cd0"
      },
      "execution_count": 17,
      "outputs": [
        {
          "output_type": "stream",
          "name": "stdout",
          "text": [
            "Everything up-to-date\n"
          ]
        }
      ]
    },
    {
      "cell_type": "markdown",
      "source": [
        "## Branching and Updates\n"
      ],
      "metadata": {
        "id": "7LIblPsqVj4f"
      }
    },
    {
      "cell_type": "markdown",
      "source": [
        "### Access new branch `feature-branch`\n"
      ],
      "metadata": {
        "id": "xa8ic9pMVo8I"
      }
    },
    {
      "cell_type": "code",
      "source": [
        "!git checkout -b feature-branch"
      ],
      "metadata": {
        "colab": {
          "base_uri": "https://localhost:8080/"
        },
        "id": "Etd4LKuhVlfG",
        "outputId": "39ae21e6-0288-407c-f8d6-07c8d8c8a71a"
      },
      "execution_count": 18,
      "outputs": [
        {
          "output_type": "stream",
          "name": "stdout",
          "text": [
            "Switched to a new branch 'feature-branch'\n"
          ]
        }
      ]
    },
    {
      "cell_type": "markdown",
      "source": [
        "### Verify branch names"
      ],
      "metadata": {
        "id": "FzZ-RwMxVxe6"
      }
    },
    {
      "cell_type": "code",
      "source": [
        "!git branch"
      ],
      "metadata": {
        "colab": {
          "base_uri": "https://localhost:8080/"
        },
        "id": "miXv65nwVtv3",
        "outputId": "5fe4675b-5b9a-4711-9331-dfc6219c4b48"
      },
      "execution_count": 19,
      "outputs": [
        {
          "output_type": "stream",
          "name": "stdout",
          "text": [
            "* \u001b[32mfeature-branch\u001b[m\n",
            "  main\u001b[m\n"
          ]
        }
      ]
    },
    {
      "cell_type": "markdown",
      "source": [
        "### Add a new function"
      ],
      "metadata": {
        "id": "uei0PWL8V03J"
      }
    },
    {
      "cell_type": "code",
      "source": [
        "def divide_numbers(a, b):\n",
        "   if b != 0:\n",
        "        return a / b\n",
        "   else:\n",
        "    return \"Cannot divide by zero\"\n",
        "divide_numbers(10, 2)"
      ],
      "metadata": {
        "colab": {
          "base_uri": "https://localhost:8080/"
        },
        "id": "6W_A8iifVzhR",
        "outputId": "8f7c0687-19d0-4e37-b0ec-c67c7beb60e8"
      },
      "execution_count": 22,
      "outputs": [
        {
          "output_type": "execute_result",
          "data": {
            "text/plain": [
              "5.0"
            ]
          },
          "metadata": {},
          "execution_count": 22
        }
      ]
    },
    {
      "cell_type": "markdown",
      "source": [
        "### Commit and push the changes"
      ],
      "metadata": {
        "id": "i127o3FRWGC7"
      }
    },
    {
      "cell_type": "code",
      "source": [
        "!git status"
      ],
      "metadata": {
        "colab": {
          "base_uri": "https://localhost:8080/"
        },
        "id": "qUTIzSLZWI6X",
        "outputId": "3775e316-0d64-41de-aba9-6d34575b8ada"
      },
      "execution_count": 23,
      "outputs": [
        {
          "output_type": "stream",
          "name": "stdout",
          "text": [
            "On branch feature-branch\n",
            "nothing to commit, working tree clean\n"
          ]
        }
      ]
    },
    {
      "cell_type": "code",
      "source": [
        "!git add Assignment_2.ipynb"
      ],
      "metadata": {
        "id": "9OHHlvcYWK8Q"
      },
      "execution_count": 24,
      "outputs": []
    },
    {
      "cell_type": "code",
      "source": [
        "!git commit -m \"Add division function\""
      ],
      "metadata": {
        "colab": {
          "base_uri": "https://localhost:8080/"
        },
        "id": "PazNncy7WO74",
        "outputId": "c9475e5c-135e-4208-d6c4-10f734431d5b"
      },
      "execution_count": 25,
      "outputs": [
        {
          "output_type": "stream",
          "name": "stdout",
          "text": [
            "On branch feature-branch\n",
            "nothing to commit, working tree clean\n"
          ]
        }
      ]
    },
    {
      "cell_type": "code",
      "source": [
        "!git checkout feature-branch"
      ],
      "metadata": {
        "colab": {
          "base_uri": "https://localhost:8080/"
        },
        "id": "jf1ndNUJWSYA",
        "outputId": "345cab07-f7e1-4419-bcf9-03a26ac91ab4"
      },
      "execution_count": 26,
      "outputs": [
        {
          "output_type": "stream",
          "name": "stdout",
          "text": [
            "Already on 'feature-branch'\n"
          ]
        }
      ]
    },
    {
      "cell_type": "code",
      "source": [
        "!git push  https://$GHTOKEN@github.com/flaviarbatista/Assignments.git feature-branch"
      ],
      "metadata": {
        "colab": {
          "base_uri": "https://localhost:8080/"
        },
        "id": "2SOxGfx4WZPY",
        "outputId": "06411081-67f6-4362-fd36-f122c7c0feff"
      },
      "execution_count": 27,
      "outputs": [
        {
          "output_type": "stream",
          "name": "stdout",
          "text": [
            "Total 0 (delta 0), reused 0 (delta 0), pack-reused 0\n",
            "To https://github.com/flaviarbatista/Assignments.git\n",
            "   23354c9..85b88e7  feature-branch -> feature-branch\n"
          ]
        }
      ]
    },
    {
      "cell_type": "code",
      "source": [
        "os.environ.pop('GHTOKEN', None)\n",
        "print(\"GHTOKEN removed from the session.\")"
      ],
      "metadata": {
        "colab": {
          "base_uri": "https://localhost:8080/"
        },
        "id": "RXWL5LrjWcfw",
        "outputId": "2e7877c3-a3d5-4e5d-fc20-56f846d2e16a"
      },
      "execution_count": 28,
      "outputs": [
        {
          "output_type": "stream",
          "name": "stdout",
          "text": [
            "GHTOKEN removed from the session.\n"
          ]
        }
      ]
    }
  ]
}