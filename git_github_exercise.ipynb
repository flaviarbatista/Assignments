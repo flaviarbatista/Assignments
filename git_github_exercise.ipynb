{
  "nbformat": 4,
  "nbformat_minor": 0,
  "metadata": {
    "colab": {
      "provenance": [],
      "authorship_tag": "ABX9TyNS1FnV1uUpjukOdU8+5J1T",
      "include_colab_link": true
    },
    "kernelspec": {
      "name": "python3",
      "display_name": "Python 3"
    },
    "language_info": {
      "name": "python"
    }
  },
  "cells": [
    {
      "cell_type": "markdown",
      "metadata": {
        "id": "view-in-github",
        "colab_type": "text"
      },
      "source": [
        "<a href=\"https://colab.research.google.com/github/flaviarbatista/Assignments/blob/main/git_github_exercise.ipynb\" target=\"_parent\"><img src=\"https://colab.research.google.com/assets/colab-badge.svg\" alt=\"Open In Colab\"/></a>"
      ]
    },
    {
      "cell_type": "markdown",
      "source": [
        "# **Lab 2: Introduction to Artificial Intelligence**\n",
        "### **Name:** Flavia Batista\n",
        "### **Course:** Data Analytics and Business Intelligence Analyst\n",
        "### **Institution:** Willis College"
      ],
      "metadata": {
        "id": "H2eHFILfXbH1"
      }
    },
    {
      "cell_type": "markdown",
      "source": [
        "## Set Up Git"
      ],
      "metadata": {
        "id": "fAdsMy3_yaPH"
      }
    },
    {
      "cell_type": "code",
      "execution_count": 1,
      "metadata": {
        "colab": {
          "base_uri": "https://localhost:8080/"
        },
        "id": "Sd91JGTdE3Po",
        "outputId": "93fa02d6-68c4-4047-df51-ebf2bfd9c068"
      },
      "outputs": [
        {
          "output_type": "stream",
          "name": "stdout",
          "text": [
            "Reading package lists... Done\n",
            "Building dependency tree... Done\n",
            "Reading state information... Done\n",
            "git is already the newest version (1:2.34.1-1ubuntu1.15).\n",
            "0 upgraded, 0 newly installed, 0 to remove and 41 not upgraded.\n"
          ]
        }
      ],
      "source": [
        "!apt-get install -y git\n",
        "!git config --global user.email \"flavia.bi.progress@gmail.com\"\n",
        "!git config --global user.name \"flaviarbatista\""
      ]
    },
    {
      "cell_type": "markdown",
      "source": [
        "## Mount Google Drive"
      ],
      "metadata": {
        "id": "dEY2HyAGwgTa"
      }
    },
    {
      "cell_type": "code",
      "source": [
        "from google.colab import drive\n",
        "drive.mount('/content/drive', force_remount=True)"
      ],
      "metadata": {
        "colab": {
          "base_uri": "https://localhost:8080/"
        },
        "id": "350oYoL2twHA",
        "outputId": "179880c2-e7d8-4bd1-8ad6-2db6f436553d"
      },
      "execution_count": 2,
      "outputs": [
        {
          "output_type": "stream",
          "name": "stdout",
          "text": [
            "Mounted at /content/drive\n"
          ]
        }
      ]
    },
    {
      "cell_type": "markdown",
      "source": [
        "## Clone the Repository"
      ],
      "metadata": {
        "id": "0pwyKQf2o6w1"
      }
    },
    {
      "cell_type": "code",
      "source": [
        "!git clone https://github.com/flaviarbatista/Assignments.git"
      ],
      "metadata": {
        "colab": {
          "base_uri": "https://localhost:8080/"
        },
        "id": "fuctGhO_oovt",
        "outputId": "7f38cf03-c01e-4e5d-d3b6-1cd33fc1a20a"
      },
      "execution_count": 3,
      "outputs": [
        {
          "output_type": "stream",
          "name": "stdout",
          "text": [
            "Cloning into 'Assignments'...\n",
            "remote: Enumerating objects: 30, done.\u001b[K\n",
            "remote: Counting objects: 100% (30/30), done.\u001b[K\n",
            "remote: Compressing objects: 100% (26/26), done.\u001b[K\n",
            "Receiving objects: 100% (30/30), 19.50 KiB | 3.90 MiB/s, done.\n",
            "remote: Total 30 (delta 17), reused 8 (delta 2), pack-reused 0 (from 0)\u001b[K\n",
            "Resolving deltas: 100% (17/17), done.\n"
          ]
        }
      ]
    },
    {
      "cell_type": "markdown",
      "source": [
        "## Inspect"
      ],
      "metadata": {
        "id": "-4tY0DbWxvjm"
      }
    },
    {
      "cell_type": "code",
      "source": [
        "!ls \"/content/drive/MyDrive/Colab Notebooks\""
      ],
      "metadata": {
        "colab": {
          "base_uri": "https://localhost:8080/"
        },
        "id": "HThJMjR7sqmy",
        "outputId": "cb65b093-fa23-43ab-8849-d0d2faa81e48"
      },
      "execution_count": 4,
      "outputs": [
        {
          "output_type": "stream",
          "name": "stdout",
          "text": [
            "git_github_exercise.ipynb\n"
          ]
        }
      ]
    },
    {
      "cell_type": "code",
      "source": [
        "!cp \"/content/drive/MyDrive/Colab Notebooks/git_github_exercise.ipynb\" ."
      ],
      "metadata": {
        "id": "MWXTTS3uCmy6"
      },
      "execution_count": 5,
      "outputs": []
    },
    {
      "cell_type": "markdown",
      "source": [
        "## Changing to the repository directory"
      ],
      "metadata": {
        "id": "IhP_aFuuryMB"
      }
    },
    {
      "cell_type": "code",
      "source": [
        "%cd Assignments"
      ],
      "metadata": {
        "colab": {
          "base_uri": "https://localhost:8080/"
        },
        "id": "AKPvppSLr75f",
        "outputId": "629f6b94-d563-4267-e95e-558e62874081"
      },
      "execution_count": 6,
      "outputs": [
        {
          "output_type": "stream",
          "name": "stdout",
          "text": [
            "/content/Assignments\n"
          ]
        }
      ]
    },
    {
      "cell_type": "markdown",
      "source": [
        "## List the files and directories in the current working directory"
      ],
      "metadata": {
        "id": "0kFV8ksXsAmJ"
      }
    },
    {
      "cell_type": "code",
      "source": [
        "%ls"
      ],
      "metadata": {
        "colab": {
          "base_uri": "https://localhost:8080/"
        },
        "id": "wA1QS-NqsA5_",
        "outputId": "6b5e47a8-dff5-43c1-9b6d-4827b996059b"
      },
      "execution_count": 7,
      "outputs": [
        {
          "output_type": "stream",
          "name": "stdout",
          "text": [
            "git_github_exercise.ipynb  README.md\n"
          ]
        }
      ]
    },
    {
      "cell_type": "markdown",
      "source": [
        "## Check Git Status"
      ],
      "metadata": {
        "id": "ooKQTus9v-wZ"
      }
    },
    {
      "cell_type": "code",
      "source": [
        "!git status"
      ],
      "metadata": {
        "colab": {
          "base_uri": "https://localhost:8080/"
        },
        "id": "f6AdMplzsFIk",
        "outputId": "dc5f3481-3f8f-4f88-9e8a-84cae664b38d"
      },
      "execution_count": 8,
      "outputs": [
        {
          "output_type": "stream",
          "name": "stdout",
          "text": [
            "On branch main\n",
            "Your branch is up to date with 'origin/main'.\n",
            "\n",
            "nothing to commit, working tree clean\n"
          ]
        }
      ]
    },
    {
      "cell_type": "code",
      "source": [
        "import getpass, os\n",
        "token = getpass.getpass('Token')\n",
        "os.environ['GHTOKEN'] = token"
      ],
      "metadata": {
        "colab": {
          "base_uri": "https://localhost:8080/"
        },
        "id": "-qAde2S8d-bR",
        "outputId": "9e8d9bea-1dd6-4577-be0c-189a18c9ecf0"
      },
      "execution_count": 9,
      "outputs": [
        {
          "name": "stdout",
          "output_type": "stream",
          "text": [
            "Token··········\n"
          ]
        }
      ]
    },
    {
      "cell_type": "markdown",
      "source": [
        "# Git and GitHub Exercise  \n",
        "This notebook demonstrates basic Git operations."
      ],
      "metadata": {
        "id": "4HoQwNVyq42i"
      }
    },
    {
      "cell_type": "markdown",
      "source": [
        "##  Python function"
      ],
      "metadata": {
        "id": "mqH98m4cG-V7"
      }
    },
    {
      "cell_type": "code",
      "source": [
        "def greet(name):\n",
        "    return f\"Hello, {name}! Welcome to Git and GitHub.\"\n",
        "print(greet(\"Learner\"))"
      ],
      "metadata": {
        "colab": {
          "base_uri": "https://localhost:8080/"
        },
        "id": "YQ_A6AUmrB0Q",
        "outputId": "e1ec27d7-1cab-4cce-e4de-fa96d0ea9705"
      },
      "execution_count": 10,
      "outputs": [
        {
          "output_type": "stream",
          "name": "stdout",
          "text": [
            "Hello, Learner! Welcome to Git and GitHub.\n"
          ]
        }
      ]
    },
    {
      "cell_type": "markdown",
      "source": [
        "## Rename Branch to main"
      ],
      "metadata": {
        "id": "4YiVEA9zwXgr"
      }
    },
    {
      "cell_type": "code",
      "source": [
        "!git branch -m main"
      ],
      "metadata": {
        "id": "6KWzE6cSsg_a"
      },
      "execution_count": 11,
      "outputs": []
    },
    {
      "cell_type": "markdown",
      "source": [
        "## Verify Branch Name"
      ],
      "metadata": {
        "id": "Mqoum_uWwa6u"
      }
    },
    {
      "cell_type": "code",
      "source": [
        "!git branch"
      ],
      "metadata": {
        "colab": {
          "base_uri": "https://localhost:8080/"
        },
        "id": "zlm5IA0asm86",
        "outputId": "3db09ffc-411e-4bb0-f26e-80d642782209"
      },
      "execution_count": 12,
      "outputs": [
        {
          "output_type": "stream",
          "name": "stdout",
          "text": [
            "* \u001b[32mmain\u001b[m\n"
          ]
        }
      ]
    },
    {
      "cell_type": "markdown",
      "source": [
        "## Set main as the Default for Future Repositories (Optional)"
      ],
      "metadata": {
        "id": "HqEJUWBBBek5"
      }
    },
    {
      "cell_type": "code",
      "source": [
        "!git config --global init.defaultBranch main"
      ],
      "metadata": {
        "id": "GbFaLJphBY-F"
      },
      "execution_count": 13,
      "outputs": []
    },
    {
      "cell_type": "markdown",
      "source": [
        "## Commit and Push Changes"
      ],
      "metadata": {
        "id": "NytjXVxy9uNh"
      }
    },
    {
      "cell_type": "code",
      "source": [
        "!git add --all"
      ],
      "metadata": {
        "id": "qvnpbeHesJZk"
      },
      "execution_count": 14,
      "outputs": []
    },
    {
      "cell_type": "code",
      "source": [
        "!git add git_github_exercise.ipynb"
      ],
      "metadata": {
        "id": "W69rYqGJuhKX"
      },
      "execution_count": 15,
      "outputs": []
    },
    {
      "cell_type": "code",
      "source": [
        "!git commit -a -m\"Add initial notebook with greeting function\""
      ],
      "metadata": {
        "colab": {
          "base_uri": "https://localhost:8080/"
        },
        "id": "hq9AcK-hs7M3",
        "outputId": "516fb0e9-ef0b-4e3f-98d0-e4870fd3b252"
      },
      "execution_count": 16,
      "outputs": [
        {
          "output_type": "stream",
          "name": "stdout",
          "text": [
            "On branch main\n",
            "Your branch is up to date with 'origin/main'.\n",
            "\n",
            "nothing to commit, working tree clean\n"
          ]
        }
      ]
    },
    {
      "cell_type": "code",
      "source": [
        "!git status"
      ],
      "metadata": {
        "colab": {
          "base_uri": "https://localhost:8080/"
        },
        "id": "bBW4MZWZjcbw",
        "outputId": "91a8ef2a-236d-4e5c-c31c-7b859b696c3e"
      },
      "execution_count": 17,
      "outputs": [
        {
          "output_type": "stream",
          "name": "stdout",
          "text": [
            "On branch main\n",
            "Your branch is up to date with 'origin/main'.\n",
            "\n",
            "nothing to commit, working tree clean\n"
          ]
        }
      ]
    },
    {
      "cell_type": "code",
      "source": [
        "!git remote -v"
      ],
      "metadata": {
        "colab": {
          "base_uri": "https://localhost:8080/"
        },
        "id": "eS3UDb4zqWC6",
        "outputId": "9b150a37-7f15-4e0d-a676-2d2598cff446"
      },
      "execution_count": 18,
      "outputs": [
        {
          "output_type": "stream",
          "name": "stdout",
          "text": [
            "origin\thttps://github.com/flaviarbatista/Assignments.git (fetch)\n",
            "origin\thttps://github.com/flaviarbatista/Assignments.git (push)\n"
          ]
        }
      ]
    },
    {
      "cell_type": "code",
      "source": [
        "!git fetch origin\n",
        "!git pull origin main"
      ],
      "metadata": {
        "colab": {
          "base_uri": "https://localhost:8080/"
        },
        "id": "S6jnEmAtIkYr",
        "outputId": "cb8d078c-273e-4bae-8293-1d0aeb450bec"
      },
      "execution_count": 19,
      "outputs": [
        {
          "output_type": "stream",
          "name": "stdout",
          "text": [
            "From https://github.com/flaviarbatista/Assignments\n",
            " * branch            main       -> FETCH_HEAD\n",
            "Already up to date.\n"
          ]
        }
      ]
    },
    {
      "cell_type": "code",
      "source": [
        "!git push https://$GHTOKEN@github.com/flaviarbatista/Assignments.git main"
      ],
      "metadata": {
        "colab": {
          "base_uri": "https://localhost:8080/"
        },
        "id": "B_0nUFB9wZ7x",
        "outputId": "9eee4fb5-729a-4261-f0c5-ccf8ed932872"
      },
      "execution_count": 20,
      "outputs": [
        {
          "output_type": "stream",
          "name": "stdout",
          "text": [
            "Everything up-to-date\n"
          ]
        }
      ]
    },
    {
      "cell_type": "markdown",
      "source": [
        "## Create a Branch and Make Changes"
      ],
      "metadata": {
        "id": "Ht74tTciKLTA"
      }
    },
    {
      "cell_type": "markdown",
      "source": [
        "### Access new branch `feature-branch`"
      ],
      "metadata": {
        "id": "_wEhs-FKX-CQ"
      }
    },
    {
      "cell_type": "code",
      "source": [
        "!git checkout -b feature-branch"
      ],
      "metadata": {
        "colab": {
          "base_uri": "https://localhost:8080/"
        },
        "id": "UpvJBI2pWovN",
        "outputId": "831eabd0-5e25-4f5c-94ff-a0b9ab7aba90"
      },
      "execution_count": 21,
      "outputs": [
        {
          "output_type": "stream",
          "name": "stdout",
          "text": [
            "Switched to a new branch 'feature-branch'\n"
          ]
        }
      ]
    },
    {
      "cell_type": "markdown",
      "source": [
        "### Verify branch names"
      ],
      "metadata": {
        "id": "3g-YIxx3X0pa"
      }
    },
    {
      "cell_type": "code",
      "source": [
        "!git branch"
      ],
      "metadata": {
        "colab": {
          "base_uri": "https://localhost:8080/"
        },
        "id": "9hIrKGAJG_wP",
        "outputId": "fcefdb61-c4f6-4982-9210-ffea978dd15a"
      },
      "execution_count": 22,
      "outputs": [
        {
          "output_type": "stream",
          "name": "stdout",
          "text": [
            "* \u001b[32mfeature-branch\u001b[m\n",
            "  main\u001b[m\n"
          ]
        }
      ]
    },
    {
      "cell_type": "markdown",
      "source": [
        "# Add a new function"
      ],
      "metadata": {
        "id": "CKtaOryuKsL7"
      }
    },
    {
      "cell_type": "code",
      "source": [
        "def calculate_square(number):\n",
        "    return number ** 2\n",
        "\n",
        "calculate_square(5)"
      ],
      "metadata": {
        "colab": {
          "base_uri": "https://localhost:8080/"
        },
        "id": "wa4GXRsPK0ao",
        "outputId": "3f23d7fb-13a4-41e3-cc34-a8eb35cb6090"
      },
      "execution_count": 23,
      "outputs": [
        {
          "output_type": "execute_result",
          "data": {
            "text/plain": [
              "25"
            ]
          },
          "metadata": {},
          "execution_count": 23
        }
      ]
    },
    {
      "cell_type": "markdown",
      "source": [
        "## Commit and push the changes"
      ],
      "metadata": {
        "id": "cxfHlEJyMMcX"
      }
    },
    {
      "cell_type": "code",
      "source": [
        "!git status"
      ],
      "metadata": {
        "colab": {
          "base_uri": "https://localhost:8080/"
        },
        "id": "DP-Q5bQM4GOC",
        "outputId": "188361d2-18be-40f4-8015-bba9f6018a98"
      },
      "execution_count": 24,
      "outputs": [
        {
          "output_type": "stream",
          "name": "stdout",
          "text": [
            "On branch feature-branch\n",
            "nothing to commit, working tree clean\n"
          ]
        }
      ]
    },
    {
      "cell_type": "code",
      "source": [
        "!git add git_github_exercise.ipynb"
      ],
      "metadata": {
        "id": "qKlW5YPdgJj7"
      },
      "execution_count": 25,
      "outputs": []
    },
    {
      "cell_type": "code",
      "source": [
        "!git commit -a -m \"Added square calculation function\""
      ],
      "metadata": {
        "colab": {
          "base_uri": "https://localhost:8080/"
        },
        "id": "VD8Hqa1qLxD7",
        "outputId": "ebaebfc8-4e2c-4349-e126-153af167edb7"
      },
      "execution_count": 26,
      "outputs": [
        {
          "output_type": "stream",
          "name": "stdout",
          "text": [
            "On branch feature-branch\n",
            "nothing to commit, working tree clean\n"
          ]
        }
      ]
    },
    {
      "cell_type": "code",
      "source": [
        "!git checkout feature-branch"
      ],
      "metadata": {
        "colab": {
          "base_uri": "https://localhost:8080/"
        },
        "id": "Ojz_fBosyTrZ",
        "outputId": "012fd22e-8c12-4d2c-ae60-80fc42a7afea"
      },
      "execution_count": 27,
      "outputs": [
        {
          "output_type": "stream",
          "name": "stdout",
          "text": [
            "Already on 'feature-branch'\n"
          ]
        }
      ]
    },
    {
      "cell_type": "code",
      "source": [
        "!git push --force https://$GHTOKEN@github.com/flaviarbatista/Assignments.git feature-branch"
      ],
      "metadata": {
        "colab": {
          "base_uri": "https://localhost:8080/"
        },
        "id": "kr3i5rNdMgks",
        "outputId": "05fbbf43-957b-475f-c8f9-b767ff87abf7"
      },
      "execution_count": 28,
      "outputs": [
        {
          "output_type": "stream",
          "name": "stdout",
          "text": [
            "Total 0 (delta 0), reused 0 (delta 0), pack-reused 0\n",
            "To https://github.com/flaviarbatista/Assignments.git\n",
            " + 5d29d62...23354c9 feature-branch -> feature-branch (forced update)\n"
          ]
        }
      ]
    },
    {
      "cell_type": "code",
      "source": [
        "os.environ.pop('GHTOKEN', None)\n",
        "print(\"GHTOKEN removed from the session.\")"
      ],
      "metadata": {
        "colab": {
          "base_uri": "https://localhost:8080/"
        },
        "id": "NGtmvk0L6tEu",
        "outputId": "9995efe4-cb2e-4f14-91ef-8c1df95cfb49"
      },
      "execution_count": 29,
      "outputs": [
        {
          "output_type": "stream",
          "name": "stdout",
          "text": [
            "GHTOKEN removed from the session.\n"
          ]
        }
      ]
    }
  ]
}