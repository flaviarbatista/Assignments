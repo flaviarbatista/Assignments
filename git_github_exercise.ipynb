{
  "nbformat": 4,
  "nbformat_minor": 0,
  "metadata": {
    "colab": {
      "provenance": [],
      "authorship_tag": "ABX9TyPGztN4PWbuMR+3G2QIUaXE",
      "include_colab_link": true
    },
    "kernelspec": {
      "name": "python3",
      "display_name": "Python 3"
    },
    "language_info": {
      "name": "python"
    }
  },
  "cells": [
    {
      "cell_type": "markdown",
      "metadata": {
        "id": "view-in-github",
        "colab_type": "text"
      },
      "source": [
        "<a href=\"https://colab.research.google.com/github/flaviarbatista/Assignments/blob/main/git_github_exercise.ipynb\" target=\"_parent\"><img src=\"https://colab.research.google.com/assets/colab-badge.svg\" alt=\"Open In Colab\"/></a>"
      ]
    },
    {
      "cell_type": "markdown",
      "source": [
        "# **Lab 2: Introduction to Artificial Intelligence**\n",
        "### **Name:** Flavia Batista\n",
        "### **Course:** Data Analytics and Business Intelligence Analyst\n",
        "### **Institution:** Willis College"
      ],
      "metadata": {
        "id": "H2eHFILfXbH1"
      }
    },
    {
      "cell_type": "markdown",
      "source": [
        "## Set Up Git"
      ],
      "metadata": {
        "id": "fAdsMy3_yaPH"
      }
    },
    {
      "cell_type": "code",
      "execution_count": 1,
      "metadata": {
        "colab": {
          "base_uri": "https://localhost:8080/"
        },
        "id": "Sd91JGTdE3Po",
        "outputId": "8835fb32-affe-4e12-e582-cb306becb697"
      },
      "outputs": [
        {
          "output_type": "stream",
          "name": "stdout",
          "text": [
            "Reading package lists... Done\n",
            "Building dependency tree... Done\n",
            "Reading state information... Done\n",
            "git is already the newest version (1:2.34.1-1ubuntu1.15).\n",
            "0 upgraded, 0 newly installed, 0 to remove and 41 not upgraded.\n"
          ]
        }
      ],
      "source": [
        "!apt-get install -y git\n",
        "!git config --global user.email \"flavia.bi.progress@gmail.com\"\n",
        "!git config --global user.name \"flaviarbatista\""
      ]
    },
    {
      "cell_type": "markdown",
      "source": [
        "## Mount Google Drive"
      ],
      "metadata": {
        "id": "dEY2HyAGwgTa"
      }
    },
    {
      "cell_type": "code",
      "source": [
        "from google.colab import drive\n",
        "drive.mount('/content/drive', force_remount=True)"
      ],
      "metadata": {
        "colab": {
          "base_uri": "https://localhost:8080/"
        },
        "id": "350oYoL2twHA",
        "outputId": "e36d3a1b-7200-4fcf-fa9f-93f7266e255c"
      },
      "execution_count": 2,
      "outputs": [
        {
          "output_type": "stream",
          "name": "stdout",
          "text": [
            "Mounted at /content/drive\n"
          ]
        }
      ]
    },
    {
      "cell_type": "markdown",
      "source": [
        "## Clone the Repository"
      ],
      "metadata": {
        "id": "0pwyKQf2o6w1"
      }
    },
    {
      "cell_type": "code",
      "source": [
        "!git clone https://github.com/flaviarbatista/Assignments.git"
      ],
      "metadata": {
        "colab": {
          "base_uri": "https://localhost:8080/"
        },
        "id": "fuctGhO_oovt",
        "outputId": "020b96f8-6897-478c-a87d-5eb125b95806"
      },
      "execution_count": 3,
      "outputs": [
        {
          "output_type": "stream",
          "name": "stdout",
          "text": [
            "Cloning into 'Assignments'...\n",
            "remote: Enumerating objects: 24, done.\u001b[K\n",
            "remote: Counting objects: 100% (24/24), done.\u001b[K\n",
            "remote: Compressing objects: 100% (20/20), done.\u001b[K\n",
            "remote: Total 24 (delta 13), reused 8 (delta 2), pack-reused 0 (from 0)\u001b[K\n",
            "Receiving objects: 100% (24/24), 17.09 KiB | 8.54 MiB/s, done.\n",
            "Resolving deltas: 100% (13/13), done.\n"
          ]
        }
      ]
    },
    {
      "cell_type": "markdown",
      "source": [
        "## Inspect"
      ],
      "metadata": {
        "id": "-4tY0DbWxvjm"
      }
    },
    {
      "cell_type": "code",
      "source": [
        "!ls \"/content/drive/MyDrive/Colab Notebooks\""
      ],
      "metadata": {
        "colab": {
          "base_uri": "https://localhost:8080/"
        },
        "id": "HThJMjR7sqmy",
        "outputId": "9730346d-e8b5-4bd5-9edb-308eb2ffbd0c"
      },
      "execution_count": 4,
      "outputs": [
        {
          "output_type": "stream",
          "name": "stdout",
          "text": [
            "git_github_exercise.ipynb\n"
          ]
        }
      ]
    },
    {
      "cell_type": "code",
      "source": [
        "!cp \"/content/drive/MyDrive/Colab Notebooks/git_github_exercise.ipynb\" ."
      ],
      "metadata": {
        "id": "MWXTTS3uCmy6"
      },
      "execution_count": 5,
      "outputs": []
    },
    {
      "cell_type": "markdown",
      "source": [
        "## Changing to the repository directory"
      ],
      "metadata": {
        "id": "IhP_aFuuryMB"
      }
    },
    {
      "cell_type": "code",
      "source": [
        "%cd Assignments"
      ],
      "metadata": {
        "colab": {
          "base_uri": "https://localhost:8080/"
        },
        "id": "AKPvppSLr75f",
        "outputId": "f57a6b9a-46a5-4042-b9ab-0b33e7bc219b"
      },
      "execution_count": 6,
      "outputs": [
        {
          "output_type": "stream",
          "name": "stdout",
          "text": [
            "/content/Assignments\n"
          ]
        }
      ]
    },
    {
      "cell_type": "markdown",
      "source": [
        "## List the files and directories in the current working directory"
      ],
      "metadata": {
        "id": "0kFV8ksXsAmJ"
      }
    },
    {
      "cell_type": "code",
      "source": [
        "%ls"
      ],
      "metadata": {
        "colab": {
          "base_uri": "https://localhost:8080/"
        },
        "id": "wA1QS-NqsA5_",
        "outputId": "2dd85468-5872-4a5c-d381-c7834276f47c"
      },
      "execution_count": 7,
      "outputs": [
        {
          "output_type": "stream",
          "name": "stdout",
          "text": [
            "git_github_exercise.ipynb  README.md\n"
          ]
        }
      ]
    },
    {
      "cell_type": "markdown",
      "source": [
        "## Check Git Status"
      ],
      "metadata": {
        "id": "ooKQTus9v-wZ"
      }
    },
    {
      "cell_type": "code",
      "source": [
        "!git status"
      ],
      "metadata": {
        "colab": {
          "base_uri": "https://localhost:8080/"
        },
        "id": "f6AdMplzsFIk",
        "outputId": "382c7fed-3501-4734-fd35-b6cb251b2211"
      },
      "execution_count": 8,
      "outputs": [
        {
          "output_type": "stream",
          "name": "stdout",
          "text": [
            "On branch main\n",
            "Your branch is up to date with 'origin/main'.\n",
            "\n",
            "nothing to commit, working tree clean\n"
          ]
        }
      ]
    },
    {
      "cell_type": "code",
      "source": [
        "import getpass, os\n",
        "token = getpass.getpass('Token')\n",
        "os.environ['GHTOKEN'] = token"
      ],
      "metadata": {
        "colab": {
          "base_uri": "https://localhost:8080/"
        },
        "id": "-qAde2S8d-bR",
        "outputId": "a42d483c-da22-4dad-bffe-ae4431938352"
      },
      "execution_count": 9,
      "outputs": [
        {
          "name": "stdout",
          "output_type": "stream",
          "text": [
            "Token··········\n"
          ]
        }
      ]
    },
    {
      "cell_type": "markdown",
      "source": [
        "# Git and GitHub Exercise  \n",
        "This notebook demonstrates basic Git operations."
      ],
      "metadata": {
        "id": "4HoQwNVyq42i"
      }
    },
    {
      "cell_type": "markdown",
      "source": [
        "##  Python function"
      ],
      "metadata": {
        "id": "mqH98m4cG-V7"
      }
    },
    {
      "cell_type": "code",
      "source": [
        "def greet(name):\n",
        "    return f\"Hello, {name}! Welcome to Git and GitHub.\"\n",
        "print(greet(\"Learner\"))"
      ],
      "metadata": {
        "colab": {
          "base_uri": "https://localhost:8080/"
        },
        "id": "YQ_A6AUmrB0Q",
        "outputId": "d15203b4-1d82-4aec-87ce-5bf4a9ef59d5"
      },
      "execution_count": 10,
      "outputs": [
        {
          "output_type": "stream",
          "name": "stdout",
          "text": [
            "Hello, Learner! Welcome to Git and GitHub.\n"
          ]
        }
      ]
    },
    {
      "cell_type": "markdown",
      "source": [
        "## Rename Branch to main"
      ],
      "metadata": {
        "id": "4YiVEA9zwXgr"
      }
    },
    {
      "cell_type": "code",
      "source": [
        "!git branch -m main"
      ],
      "metadata": {
        "id": "6KWzE6cSsg_a"
      },
      "execution_count": 11,
      "outputs": []
    },
    {
      "cell_type": "markdown",
      "source": [
        "## Verify Branch Name"
      ],
      "metadata": {
        "id": "Mqoum_uWwa6u"
      }
    },
    {
      "cell_type": "code",
      "source": [
        "!git branch"
      ],
      "metadata": {
        "colab": {
          "base_uri": "https://localhost:8080/"
        },
        "id": "zlm5IA0asm86",
        "outputId": "2709ffa7-27c1-4ceb-f35e-dbd972f2a019"
      },
      "execution_count": 12,
      "outputs": [
        {
          "output_type": "stream",
          "name": "stdout",
          "text": [
            "* \u001b[32mmain\u001b[m\n"
          ]
        }
      ]
    },
    {
      "cell_type": "markdown",
      "source": [
        "## Set main as the Default for Future Repositories (Optional)"
      ],
      "metadata": {
        "id": "HqEJUWBBBek5"
      }
    },
    {
      "cell_type": "code",
      "source": [
        "!git config --global init.defaultBranch main"
      ],
      "metadata": {
        "id": "GbFaLJphBY-F"
      },
      "execution_count": 13,
      "outputs": []
    },
    {
      "cell_type": "markdown",
      "source": [
        "## Commit and Push Changes"
      ],
      "metadata": {
        "id": "NytjXVxy9uNh"
      }
    },
    {
      "cell_type": "code",
      "source": [
        "!git add --all"
      ],
      "metadata": {
        "id": "qvnpbeHesJZk"
      },
      "execution_count": 14,
      "outputs": []
    },
    {
      "cell_type": "code",
      "source": [
        "!git add git_github_exercise.ipynb"
      ],
      "metadata": {
        "id": "W69rYqGJuhKX"
      },
      "execution_count": 15,
      "outputs": []
    },
    {
      "cell_type": "code",
      "source": [
        "!git commit -a -m\"Add initial notebook with greeting function\""
      ],
      "metadata": {
        "colab": {
          "base_uri": "https://localhost:8080/"
        },
        "id": "hq9AcK-hs7M3",
        "outputId": "68e1cde1-4069-4b94-94a5-8ea7facb9fb0"
      },
      "execution_count": 16,
      "outputs": [
        {
          "output_type": "stream",
          "name": "stdout",
          "text": [
            "On branch main\n",
            "Your branch is up to date with 'origin/main'.\n",
            "\n",
            "nothing to commit, working tree clean\n"
          ]
        }
      ]
    },
    {
      "cell_type": "code",
      "source": [
        "!git status"
      ],
      "metadata": {
        "colab": {
          "base_uri": "https://localhost:8080/"
        },
        "id": "bBW4MZWZjcbw",
        "outputId": "42b9c8e6-9698-45c4-946f-2982edaa4d49"
      },
      "execution_count": 17,
      "outputs": [
        {
          "output_type": "stream",
          "name": "stdout",
          "text": [
            "On branch main\n",
            "Your branch is up to date with 'origin/main'.\n",
            "\n",
            "nothing to commit, working tree clean\n"
          ]
        }
      ]
    },
    {
      "cell_type": "code",
      "source": [
        "!git remote -v"
      ],
      "metadata": {
        "colab": {
          "base_uri": "https://localhost:8080/"
        },
        "id": "eS3UDb4zqWC6",
        "outputId": "74b1d9ce-81d3-4ee4-c43f-05df6a3b9dbb"
      },
      "execution_count": 18,
      "outputs": [
        {
          "output_type": "stream",
          "name": "stdout",
          "text": [
            "origin\thttps://github.com/flaviarbatista/Assignments.git (fetch)\n",
            "origin\thttps://github.com/flaviarbatista/Assignments.git (push)\n"
          ]
        }
      ]
    },
    {
      "cell_type": "code",
      "source": [
        "!git fetch origin\n",
        "!git pull origin main"
      ],
      "metadata": {
        "colab": {
          "base_uri": "https://localhost:8080/"
        },
        "id": "S6jnEmAtIkYr",
        "outputId": "53e1f44f-9a27-4e35-ae1b-49a73b9638bb"
      },
      "execution_count": 19,
      "outputs": [
        {
          "output_type": "stream",
          "name": "stdout",
          "text": [
            "From https://github.com/flaviarbatista/Assignments\n",
            " * branch            main       -> FETCH_HEAD\n",
            "Already up to date.\n"
          ]
        }
      ]
    },
    {
      "cell_type": "code",
      "source": [
        "!git push https://$GHTOKEN@github.com/flaviarbatista/Assignments.git main"
      ],
      "metadata": {
        "colab": {
          "base_uri": "https://localhost:8080/"
        },
        "id": "B_0nUFB9wZ7x",
        "outputId": "88c6ec4e-aa9c-4f0e-8485-565790dbc648"
      },
      "execution_count": 20,
      "outputs": [
        {
          "output_type": "stream",
          "name": "stdout",
          "text": [
            "Everything up-to-date\n"
          ]
        }
      ]
    },
    {
      "cell_type": "markdown",
      "source": [
        "## Create a Branch and Make Changes"
      ],
      "metadata": {
        "id": "Ht74tTciKLTA"
      }
    },
    {
      "cell_type": "markdown",
      "source": [
        "### Access new branch `feature-branch`"
      ],
      "metadata": {
        "id": "_wEhs-FKX-CQ"
      }
    },
    {
      "cell_type": "code",
      "source": [
        "!git checkout -b feature-branch"
      ],
      "metadata": {
        "colab": {
          "base_uri": "https://localhost:8080/"
        },
        "id": "UpvJBI2pWovN",
        "outputId": "e557c565-6e90-44b0-ba57-b5205ad92969"
      },
      "execution_count": 21,
      "outputs": [
        {
          "output_type": "stream",
          "name": "stdout",
          "text": [
            "Switched to a new branch 'feature-branch'\n"
          ]
        }
      ]
    },
    {
      "cell_type": "markdown",
      "source": [
        "### Verify branch names"
      ],
      "metadata": {
        "id": "3g-YIxx3X0pa"
      }
    },
    {
      "cell_type": "code",
      "source": [
        "!git branch"
      ],
      "metadata": {
        "colab": {
          "base_uri": "https://localhost:8080/"
        },
        "id": "9hIrKGAJG_wP",
        "outputId": "eadc38c1-27d9-4cd7-d8a1-99af6301129b"
      },
      "execution_count": 22,
      "outputs": [
        {
          "output_type": "stream",
          "name": "stdout",
          "text": [
            "* \u001b[32mfeature-branch\u001b[m\n",
            "  main\u001b[m\n"
          ]
        }
      ]
    },
    {
      "cell_type": "markdown",
      "source": [
        "# Add a new function"
      ],
      "metadata": {
        "id": "CKtaOryuKsL7"
      }
    },
    {
      "cell_type": "code",
      "source": [
        "def calculate_square(number):\n",
        "    return number ** 2\n",
        "\n",
        "calculate_square(5)"
      ],
      "metadata": {
        "colab": {
          "base_uri": "https://localhost:8080/"
        },
        "id": "wa4GXRsPK0ao",
        "outputId": "5ab9bb31-9ede-49ba-936a-412de5f5e54e"
      },
      "execution_count": 23,
      "outputs": [
        {
          "output_type": "execute_result",
          "data": {
            "text/plain": [
              "25"
            ]
          },
          "metadata": {},
          "execution_count": 23
        }
      ]
    },
    {
      "cell_type": "markdown",
      "source": [
        "## Commit and push the changes"
      ],
      "metadata": {
        "id": "cxfHlEJyMMcX"
      }
    },
    {
      "cell_type": "code",
      "source": [
        "!git add git_github_exercise.ipynb"
      ],
      "metadata": {
        "id": "qKlW5YPdgJj7"
      },
      "execution_count": 24,
      "outputs": []
    },
    {
      "cell_type": "code",
      "source": [
        "!git commit -a -m \"Added square calculation function\""
      ],
      "metadata": {
        "colab": {
          "base_uri": "https://localhost:8080/"
        },
        "id": "VD8Hqa1qLxD7",
        "outputId": "8987fdf8-68c7-4687-b0d8-ce8c29f89727"
      },
      "execution_count": 25,
      "outputs": [
        {
          "output_type": "stream",
          "name": "stdout",
          "text": [
            "On branch feature-branch\n",
            "nothing to commit, working tree clean\n"
          ]
        }
      ]
    },
    {
      "cell_type": "code",
      "source": [
        "!git checkout feature-branch"
      ],
      "metadata": {
        "colab": {
          "base_uri": "https://localhost:8080/"
        },
        "id": "Ojz_fBosyTrZ",
        "outputId": "6298265c-01a2-421c-937f-b41cc3df35ff"
      },
      "execution_count": 26,
      "outputs": [
        {
          "output_type": "stream",
          "name": "stdout",
          "text": [
            "Already on 'feature-branch'\n"
          ]
        }
      ]
    },
    {
      "cell_type": "code",
      "source": [
        "!git push https://$GHTOKEN@github.com/flaviarbatista/Assignments.git feature-branch"
      ],
      "metadata": {
        "colab": {
          "base_uri": "https://localhost:8080/"
        },
        "id": "kr3i5rNdMgks",
        "outputId": "1a598fcc-3f50-45df-d17c-ee22c0ebe8c7"
      },
      "execution_count": 1,
      "outputs": [
        {
          "output_type": "stream",
          "name": "stdout",
          "text": [
            "fatal: not a git repository (or any of the parent directories): .git\n"
          ]
        }
      ]
    },
    {
      "cell_type": "code",
      "source": [
        "os.environ.pop('GHTOKEN', None)\n",
        "print(\"GHTOKEN removed from the session.\")"
      ],
      "metadata": {
        "id": "xkicIj5rjF3k"
      },
      "execution_count": null,
      "outputs": []
    }
  ]
}