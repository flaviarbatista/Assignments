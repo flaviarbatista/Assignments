{
  "nbformat": 4,
  "nbformat_minor": 0,
  "metadata": {
    "colab": {
      "provenance": [],
      "authorship_tag": "ABX9TyO32b96xVfug119D8v1nFbh",
      "include_colab_link": true
    },
    "kernelspec": {
      "name": "python3",
      "display_name": "Python 3"
    },
    "language_info": {
      "name": "python"
    }
  },
  "cells": [
    {
      "cell_type": "markdown",
      "metadata": {
        "id": "view-in-github",
        "colab_type": "text"
      },
      "source": [
        "<a href=\"https://colab.research.google.com/github/flaviarbatista/Assignments/blob/main/git_github_exercise.ipynb\" target=\"_parent\"><img src=\"https://colab.research.google.com/assets/colab-badge.svg\" alt=\"Open In Colab\"/></a>"
      ]
    },
    {
      "cell_type": "markdown",
      "source": [
        "# **Lab 2: Introduction to Artificial Intelligence**\n",
        "### **Name:** Flavia Batista\n",
        "### **Course:** Data Analytics and Business Intelligence Analyst\n",
        "### **Institution:** Willis College"
      ],
      "metadata": {
        "id": "H2eHFILfXbH1"
      }
    },
    {
      "cell_type": "markdown",
      "source": [
        "## Set Up Git"
      ],
      "metadata": {
        "id": "fAdsMy3_yaPH"
      }
    },
    {
      "cell_type": "code",
      "execution_count": 1,
      "metadata": {
        "colab": {
          "base_uri": "https://localhost:8080/"
        },
        "id": "Sd91JGTdE3Po",
        "outputId": "4782e150-38cb-4b2f-ffb1-baf1360317e1"
      },
      "outputs": [
        {
          "output_type": "stream",
          "name": "stdout",
          "text": [
            "Reading package lists... Done\n",
            "Building dependency tree... Done\n",
            "Reading state information... Done\n",
            "git is already the newest version (1:2.34.1-1ubuntu1.15).\n",
            "0 upgraded, 0 newly installed, 0 to remove and 41 not upgraded.\n"
          ]
        }
      ],
      "source": [
        "!apt-get install -y git\n",
        "!git config --global user.email \"flavia.bi.progress@gmail.com\"\n",
        "!git config --global user.name \"flaviarbatista\""
      ]
    },
    {
      "cell_type": "markdown",
      "source": [
        "## Mount Google Drive"
      ],
      "metadata": {
        "id": "dEY2HyAGwgTa"
      }
    },
    {
      "cell_type": "code",
      "source": [
        "from google.colab import drive\n",
        "drive.mount('/content/drive', force_remount=True)"
      ],
      "metadata": {
        "colab": {
          "base_uri": "https://localhost:8080/"
        },
        "id": "350oYoL2twHA",
        "outputId": "aa776cda-1ee5-4d75-95e8-d802ecbe19da"
      },
      "execution_count": 2,
      "outputs": [
        {
          "output_type": "stream",
          "name": "stdout",
          "text": [
            "Mounted at /content/drive\n"
          ]
        }
      ]
    },
    {
      "cell_type": "markdown",
      "source": [
        "## Clone the Repository"
      ],
      "metadata": {
        "id": "0pwyKQf2o6w1"
      }
    },
    {
      "cell_type": "code",
      "source": [
        "!git clone https://github.com/flaviarbatista/Assignments.git"
      ],
      "metadata": {
        "colab": {
          "base_uri": "https://localhost:8080/"
        },
        "id": "fuctGhO_oovt",
        "outputId": "d0d31f42-3072-4285-c376-6d3cf22eb60e"
      },
      "execution_count": 3,
      "outputs": [
        {
          "output_type": "stream",
          "name": "stdout",
          "text": [
            "Cloning into 'Assignments'...\n",
            "remote: Enumerating objects: 3, done.\u001b[K\n",
            "remote: Counting objects: 100% (3/3), done.\u001b[K\n",
            "remote: Total 3 (delta 0), reused 0 (delta 0), pack-reused 0 (from 0)\u001b[K\n",
            "Receiving objects: 100% (3/3), done.\n"
          ]
        }
      ]
    },
    {
      "cell_type": "markdown",
      "source": [
        "## Changing to the repository directory"
      ],
      "metadata": {
        "id": "IhP_aFuuryMB"
      }
    },
    {
      "cell_type": "code",
      "source": [
        "%cd Assignments"
      ],
      "metadata": {
        "colab": {
          "base_uri": "https://localhost:8080/"
        },
        "id": "AKPvppSLr75f",
        "outputId": "c519a36b-a471-4a91-e3bb-a11ea68eb3ae"
      },
      "execution_count": 4,
      "outputs": [
        {
          "output_type": "stream",
          "name": "stdout",
          "text": [
            "/content/Assignments\n"
          ]
        }
      ]
    },
    {
      "cell_type": "markdown",
      "source": [
        "## List the files and directories in the current working directory"
      ],
      "metadata": {
        "id": "0kFV8ksXsAmJ"
      }
    },
    {
      "cell_type": "code",
      "source": [
        "%ls"
      ],
      "metadata": {
        "colab": {
          "base_uri": "https://localhost:8080/"
        },
        "id": "wA1QS-NqsA5_",
        "outputId": "7a676a40-70cb-4f8d-cfcd-5e3f81e07f03"
      },
      "execution_count": 5,
      "outputs": [
        {
          "output_type": "stream",
          "name": "stdout",
          "text": [
            "README.md\n"
          ]
        }
      ]
    },
    {
      "cell_type": "markdown",
      "source": [
        "## Check Git Status"
      ],
      "metadata": {
        "id": "ooKQTus9v-wZ"
      }
    },
    {
      "cell_type": "code",
      "source": [
        "!git status"
      ],
      "metadata": {
        "colab": {
          "base_uri": "https://localhost:8080/"
        },
        "id": "f6AdMplzsFIk",
        "outputId": "60666a3c-f852-46a7-db4e-7e9a9803b6d2"
      },
      "execution_count": 6,
      "outputs": [
        {
          "output_type": "stream",
          "name": "stdout",
          "text": [
            "On branch main\n",
            "Your branch is up to date with 'origin/main'.\n",
            "\n",
            "nothing to commit, working tree clean\n"
          ]
        }
      ]
    },
    {
      "cell_type": "markdown",
      "source": [
        "## Inspect"
      ],
      "metadata": {
        "id": "-4tY0DbWxvjm"
      }
    },
    {
      "cell_type": "code",
      "source": [
        "!ls \"/content/drive/MyDrive/Colab Notebooks\""
      ],
      "metadata": {
        "colab": {
          "base_uri": "https://localhost:8080/"
        },
        "id": "HThJMjR7sqmy",
        "outputId": "ff821c60-c647-4da5-ac2a-e6358a33fd40"
      },
      "execution_count": 7,
      "outputs": [
        {
          "output_type": "stream",
          "name": "stdout",
          "text": [
            "git_github_exercise.ipynb\n"
          ]
        }
      ]
    },
    {
      "cell_type": "code",
      "source": [
        "!cp \"/content/drive/MyDrive/Colab Notebooks/git_github_exercise.ipynb\" ."
      ],
      "metadata": {
        "id": "MWXTTS3uCmy6"
      },
      "execution_count": 8,
      "outputs": []
    },
    {
      "cell_type": "code",
      "source": [
        "import getpass, os\n",
        "token = getpass.getpass('Token')\n",
        "os.environ['GHTOKEN'] = token"
      ],
      "metadata": {
        "colab": {
          "base_uri": "https://localhost:8080/"
        },
        "id": "-qAde2S8d-bR",
        "outputId": "4204ee83-842e-447b-bf1b-00e612996a02"
      },
      "execution_count": 9,
      "outputs": [
        {
          "name": "stdout",
          "output_type": "stream",
          "text": [
            "Token··········\n"
          ]
        }
      ]
    },
    {
      "cell_type": "markdown",
      "source": [
        "# Git and GitHub Exercise  \n",
        "This notebook demonstrates basic Git operations."
      ],
      "metadata": {
        "id": "4HoQwNVyq42i"
      }
    },
    {
      "cell_type": "markdown",
      "source": [
        "##  Python function"
      ],
      "metadata": {
        "id": "mqH98m4cG-V7"
      }
    },
    {
      "cell_type": "code",
      "source": [
        "def greet(name):\n",
        "    return f\"Hello, {name}! Welcome to Git and GitHub.\"\n",
        "print(greet(\"Learner\"))"
      ],
      "metadata": {
        "colab": {
          "base_uri": "https://localhost:8080/"
        },
        "id": "YQ_A6AUmrB0Q",
        "outputId": "da7d8b68-1546-47a6-84ee-cda23255004d"
      },
      "execution_count": null,
      "outputs": [
        {
          "output_type": "stream",
          "name": "stdout",
          "text": [
            "Hello, Learner! Welcome to Git and GitHub.\n"
          ]
        }
      ]
    },
    {
      "cell_type": "markdown",
      "source": [
        "## Rename Branch to main"
      ],
      "metadata": {
        "id": "4YiVEA9zwXgr"
      }
    },
    {
      "cell_type": "code",
      "source": [
        "!git branch -m main"
      ],
      "metadata": {
        "id": "6KWzE6cSsg_a"
      },
      "execution_count": null,
      "outputs": []
    },
    {
      "cell_type": "markdown",
      "source": [
        "## Verify Branch Name"
      ],
      "metadata": {
        "id": "Mqoum_uWwa6u"
      }
    },
    {
      "cell_type": "code",
      "source": [
        "!git branch"
      ],
      "metadata": {
        "colab": {
          "base_uri": "https://localhost:8080/"
        },
        "id": "zlm5IA0asm86",
        "outputId": "d6eb6658-13b1-4ce9-adb2-255a1557001e"
      },
      "execution_count": null,
      "outputs": [
        {
          "output_type": "stream",
          "name": "stdout",
          "text": [
            "* \u001b[32mmain\u001b[m\n"
          ]
        }
      ]
    },
    {
      "cell_type": "markdown",
      "source": [
        "## Set main as the Default for Future Repositories (Optional)"
      ],
      "metadata": {
        "id": "HqEJUWBBBek5"
      }
    },
    {
      "cell_type": "code",
      "source": [
        "!git config --global init.defaultBranch main"
      ],
      "metadata": {
        "id": "GbFaLJphBY-F"
      },
      "execution_count": null,
      "outputs": []
    },
    {
      "cell_type": "markdown",
      "source": [
        "## Commit and Push Changes"
      ],
      "metadata": {
        "id": "NytjXVxy9uNh"
      }
    },
    {
      "cell_type": "code",
      "source": [
        "!git add --all"
      ],
      "metadata": {
        "id": "qvnpbeHesJZk"
      },
      "execution_count": null,
      "outputs": []
    },
    {
      "cell_type": "code",
      "source": [
        "!git add git_github_exercise.ipynb"
      ],
      "metadata": {
        "id": "W69rYqGJuhKX"
      },
      "execution_count": null,
      "outputs": []
    },
    {
      "cell_type": "code",
      "source": [
        "!git commit -a -m\"Add initial notebook with greeting function\""
      ],
      "metadata": {
        "colab": {
          "base_uri": "https://localhost:8080/"
        },
        "id": "hq9AcK-hs7M3",
        "outputId": "37e609fa-3aec-4d20-902f-08313ef59bde"
      },
      "execution_count": null,
      "outputs": [
        {
          "output_type": "stream",
          "name": "stdout",
          "text": [
            "[feature-branch bcb043d] Add initial notebook with greeting function\n",
            " 2 files changed, 2 insertions(+)\n",
            " create mode 160000 Assignments\n",
            " create mode 100644 git_github_exercise.ipynb\n"
          ]
        }
      ]
    },
    {
      "cell_type": "code",
      "source": [
        "!git remote -v"
      ],
      "metadata": {
        "colab": {
          "base_uri": "https://localhost:8080/"
        },
        "id": "8SrO2zBptrRs",
        "outputId": "ee6ac0ac-0dfd-4339-858c-c18443e79b7e"
      },
      "execution_count": null,
      "outputs": [
        {
          "output_type": "stream",
          "name": "stdout",
          "text": [
            "origin\thttps://github.com/flaviarbatista/Assignments.git (fetch)\n",
            "origin\thttps://github.com/flaviarbatista/Assignments.git (push)\n"
          ]
        }
      ]
    },
    {
      "cell_type": "code",
      "source": [
        "!git remote add https://github.com/flaviarbatista/Assignments.git"
      ],
      "metadata": {
        "colab": {
          "base_uri": "https://localhost:8080/"
        },
        "id": "xIblfbffIojs",
        "outputId": "fdec8311-d946-4144-e5cf-2e18f0503a99",
        "collapsed": true
      },
      "execution_count": null,
      "outputs": [
        {
          "output_type": "stream",
          "name": "stdout",
          "text": [
            "usage: git remote add [<options>] <name> <url>\n",
            "\n",
            "    -f, --fetch           fetch the remote branches\n",
            "    --tags                import all tags and associated objects when fetching\n",
            "                          or do not fetch any tag at all (--no-tags)\n",
            "    -t, --track <branch>  branch(es) to track\n",
            "    -m, --master <branch>\n",
            "                          master branch\n",
            "    --mirror[=(push|fetch)]\n",
            "                          set up remote as a mirror to push to or fetch from\n",
            "\n"
          ]
        }
      ]
    },
    {
      "cell_type": "code",
      "source": [
        "!git push https://github.com/flaviarbatista/Assignments.git"
      ],
      "metadata": {
        "colab": {
          "base_uri": "https://localhost:8080/"
        },
        "id": "S6jnEmAtIkYr",
        "outputId": "0d7671c6-d06c-46a3-fe08-102fa6d2e467"
      },
      "execution_count": null,
      "outputs": [
        {
          "output_type": "stream",
          "name": "stdout",
          "text": [
            "fatal: could not read Username for 'https://github.com': No such device or address\n"
          ]
        }
      ]
    },
    {
      "cell_type": "markdown",
      "source": [
        "## Create a Branch and Make Changes"
      ],
      "metadata": {
        "id": "Ht74tTciKLTA"
      }
    },
    {
      "cell_type": "markdown",
      "source": [
        "### Access new branch `feature-branch`"
      ],
      "metadata": {
        "id": "_wEhs-FKX-CQ"
      }
    },
    {
      "cell_type": "code",
      "source": [
        "!git checkout -b feature-branch"
      ],
      "metadata": {
        "colab": {
          "base_uri": "https://localhost:8080/"
        },
        "id": "UpvJBI2pWovN",
        "outputId": "3fe9f199-39e3-4426-8e0b-35e3aa74f4c7"
      },
      "execution_count": null,
      "outputs": [
        {
          "output_type": "stream",
          "name": "stdout",
          "text": [
            "Switched to a new branch 'feature-branch'\n"
          ]
        }
      ]
    },
    {
      "cell_type": "markdown",
      "source": [
        "### Verify branch names"
      ],
      "metadata": {
        "id": "3g-YIxx3X0pa"
      }
    },
    {
      "cell_type": "code",
      "source": [
        "!git branch"
      ],
      "metadata": {
        "colab": {
          "base_uri": "https://localhost:8080/"
        },
        "id": "9hIrKGAJG_wP",
        "outputId": "607d6410-b6ad-4e02-c2d8-2306c574ce65"
      },
      "execution_count": null,
      "outputs": [
        {
          "output_type": "stream",
          "name": "stdout",
          "text": [
            "* \u001b[32mfeature-branch\u001b[m\n",
            "  main\u001b[m\n"
          ]
        }
      ]
    },
    {
      "cell_type": "markdown",
      "source": [
        "# Add a new function"
      ],
      "metadata": {
        "id": "CKtaOryuKsL7"
      }
    },
    {
      "cell_type": "code",
      "source": [
        "def calculate_square(number):\n",
        "    return number ** 2\n",
        "\n",
        "calculate_square(5)"
      ],
      "metadata": {
        "colab": {
          "base_uri": "https://localhost:8080/"
        },
        "id": "wa4GXRsPK0ao",
        "outputId": "7a026679-9a90-482b-80f6-1d7ea724e296"
      },
      "execution_count": null,
      "outputs": [
        {
          "output_type": "execute_result",
          "data": {
            "text/plain": [
              "25"
            ]
          },
          "metadata": {},
          "execution_count": 89
        }
      ]
    },
    {
      "cell_type": "markdown",
      "source": [
        "## Commit and push the changes"
      ],
      "metadata": {
        "id": "cxfHlEJyMMcX"
      }
    },
    {
      "cell_type": "code",
      "source": [
        "!git add git_github_exercise.ipynb"
      ],
      "metadata": {
        "id": "qKlW5YPdgJj7"
      },
      "execution_count": null,
      "outputs": []
    },
    {
      "cell_type": "code",
      "source": [
        "!git commit -a -m \"Added square calculation function\""
      ],
      "metadata": {
        "colab": {
          "base_uri": "https://localhost:8080/"
        },
        "id": "VD8Hqa1qLxD7",
        "outputId": "5a940466-0001-4d0a-d184-442b5a1b963f"
      },
      "execution_count": null,
      "outputs": [
        {
          "output_type": "stream",
          "name": "stdout",
          "text": [
            "On branch feature-branch\n",
            "nothing to commit, working tree clean\n"
          ]
        }
      ]
    },
    {
      "cell_type": "code",
      "source": [
        "!git push --set-upstream origin feature-branch"
      ],
      "metadata": {
        "colab": {
          "base_uri": "https://localhost:8080/"
        },
        "id": "kr3i5rNdMgks",
        "outputId": "ed28cfb4-274d-4f49-fe18-2268c7d359dc"
      },
      "execution_count": null,
      "outputs": [
        {
          "output_type": "stream",
          "name": "stdout",
          "text": [
            "fatal: could not read Username for 'https://github.com': No such device or address\n"
          ]
        }
      ]
    }
  ]
}