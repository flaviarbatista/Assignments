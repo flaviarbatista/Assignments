{
  "nbformat": 4,
  "nbformat_minor": 0,
  "metadata": {
    "colab": {
      "provenance": [],
      "authorship_tag": "ABX9TyOtayWSSWDXnr0uCRLQ/6+6",
      "include_colab_link": true
    },
    "kernelspec": {
      "name": "python3",
      "display_name": "Python 3"
    },
    "language_info": {
      "name": "python"
    }
  },
  "cells": [
    {
      "cell_type": "markdown",
      "metadata": {
        "id": "view-in-github",
        "colab_type": "text"
      },
      "source": [
        "<a href=\"https://colab.research.google.com/github/flaviarbatista/Assignments/blob/main/git_github_exercise.ipynb\" target=\"_parent\"><img src=\"https://colab.research.google.com/assets/colab-badge.svg\" alt=\"Open In Colab\"/></a>"
      ]
    },
    {
      "cell_type": "markdown",
      "source": [
        "# **Lab 2: Introduction to Artificial Intelligence**\n",
        "### **Name:** Flavia Batista\n",
        "### **Course:** Data Analytics and Business Intelligence Analyst\n",
        "### **Institution:** Willis College"
      ],
      "metadata": {
        "id": "H2eHFILfXbH1"
      }
    },
    {
      "cell_type": "markdown",
      "source": [
        "## Set Up Git"
      ],
      "metadata": {
        "id": "fAdsMy3_yaPH"
      }
    },
    {
      "cell_type": "code",
      "execution_count": 1,
      "metadata": {
        "colab": {
          "base_uri": "https://localhost:8080/"
        },
        "id": "Sd91JGTdE3Po",
        "outputId": "f2d00328-a270-4d46-9b43-73570e38c3f1"
      },
      "outputs": [
        {
          "output_type": "stream",
          "name": "stdout",
          "text": [
            "Reading package lists... Done\n",
            "Building dependency tree... Done\n",
            "Reading state information... Done\n",
            "git is already the newest version (1:2.34.1-1ubuntu1.15).\n",
            "0 upgraded, 0 newly installed, 0 to remove and 41 not upgraded.\n"
          ]
        }
      ],
      "source": [
        "!apt-get install -y git\n",
        "!git config --global user.email \"flavia.bi.progress@gmail.com\"\n",
        "!git config --global user.name \"flaviarbatista\""
      ]
    },
    {
      "cell_type": "markdown",
      "source": [
        "## Mount Google Drive"
      ],
      "metadata": {
        "id": "dEY2HyAGwgTa"
      }
    },
    {
      "cell_type": "code",
      "source": [
        "from google.colab import drive\n",
        "drive.mount('/content/drive', force_remount=True)"
      ],
      "metadata": {
        "colab": {
          "base_uri": "https://localhost:8080/"
        },
        "id": "350oYoL2twHA",
        "outputId": "57d0ce71-0bc2-46ee-84f6-8e8156be638c"
      },
      "execution_count": 2,
      "outputs": [
        {
          "output_type": "stream",
          "name": "stdout",
          "text": [
            "Mounted at /content/drive\n"
          ]
        }
      ]
    },
    {
      "cell_type": "markdown",
      "source": [
        "## Clone the Repository"
      ],
      "metadata": {
        "id": "0pwyKQf2o6w1"
      }
    },
    {
      "cell_type": "code",
      "source": [
        "!git clone https://github.com/flaviarbatista/Assignments.git"
      ],
      "metadata": {
        "colab": {
          "base_uri": "https://localhost:8080/"
        },
        "id": "fuctGhO_oovt",
        "outputId": "9308dd4a-efe2-448f-8831-57dbb9f4fa6a"
      },
      "execution_count": 3,
      "outputs": [
        {
          "output_type": "stream",
          "name": "stdout",
          "text": [
            "Cloning into 'Assignments'...\n",
            "remote: Enumerating objects: 27, done.\u001b[K\n",
            "remote: Counting objects: 100% (27/27), done.\u001b[K\n",
            "remote: Compressing objects: 100% (23/23), done.\u001b[K\n",
            "remote: Total 27 (delta 15), reused 8 (delta 2), pack-reused 0 (from 0)\u001b[K\n",
            "Receiving objects: 100% (27/27), 18.20 KiB | 3.64 MiB/s, done.\n",
            "Resolving deltas: 100% (15/15), done.\n"
          ]
        }
      ]
    },
    {
      "cell_type": "markdown",
      "source": [
        "## Inspect"
      ],
      "metadata": {
        "id": "-4tY0DbWxvjm"
      }
    },
    {
      "cell_type": "code",
      "source": [
        "!ls \"/content/drive/MyDrive/Colab Notebooks\""
      ],
      "metadata": {
        "colab": {
          "base_uri": "https://localhost:8080/"
        },
        "id": "HThJMjR7sqmy",
        "outputId": "9c74b3a6-e1fe-41e6-bdb1-cade5b7f95b8"
      },
      "execution_count": 4,
      "outputs": [
        {
          "output_type": "stream",
          "name": "stdout",
          "text": [
            "git_github_exercise.ipynb\n"
          ]
        }
      ]
    },
    {
      "cell_type": "code",
      "source": [
        "!cp \"/content/drive/MyDrive/Colab Notebooks/git_github_exercise.ipynb\" ."
      ],
      "metadata": {
        "id": "MWXTTS3uCmy6"
      },
      "execution_count": 5,
      "outputs": []
    },
    {
      "cell_type": "markdown",
      "source": [
        "## Changing to the repository directory"
      ],
      "metadata": {
        "id": "IhP_aFuuryMB"
      }
    },
    {
      "cell_type": "code",
      "source": [
        "%cd Assignments"
      ],
      "metadata": {
        "colab": {
          "base_uri": "https://localhost:8080/"
        },
        "id": "AKPvppSLr75f",
        "outputId": "a3046348-481d-4f2c-d78d-2c18b4f7e859"
      },
      "execution_count": 6,
      "outputs": [
        {
          "output_type": "stream",
          "name": "stdout",
          "text": [
            "/content/Assignments\n"
          ]
        }
      ]
    },
    {
      "cell_type": "markdown",
      "source": [
        "## List the files and directories in the current working directory"
      ],
      "metadata": {
        "id": "0kFV8ksXsAmJ"
      }
    },
    {
      "cell_type": "code",
      "source": [
        "%ls"
      ],
      "metadata": {
        "colab": {
          "base_uri": "https://localhost:8080/"
        },
        "id": "wA1QS-NqsA5_",
        "outputId": "44ea1c67-775e-4465-fe93-e5cbad9a48ec"
      },
      "execution_count": 7,
      "outputs": [
        {
          "output_type": "stream",
          "name": "stdout",
          "text": [
            "git_github_exercise.ipynb  README.md\n"
          ]
        }
      ]
    },
    {
      "cell_type": "markdown",
      "source": [
        "## Check Git Status"
      ],
      "metadata": {
        "id": "ooKQTus9v-wZ"
      }
    },
    {
      "cell_type": "code",
      "source": [
        "!git status"
      ],
      "metadata": {
        "colab": {
          "base_uri": "https://localhost:8080/"
        },
        "id": "f6AdMplzsFIk",
        "outputId": "e67b06bf-fabf-4714-8173-468d7ecd6862"
      },
      "execution_count": 8,
      "outputs": [
        {
          "output_type": "stream",
          "name": "stdout",
          "text": [
            "On branch main\n",
            "Your branch is up to date with 'origin/main'.\n",
            "\n",
            "nothing to commit, working tree clean\n"
          ]
        }
      ]
    },
    {
      "cell_type": "code",
      "source": [
        "import getpass, os\n",
        "token = getpass.getpass('Token')\n",
        "os.environ['GHTOKEN'] = token"
      ],
      "metadata": {
        "colab": {
          "base_uri": "https://localhost:8080/"
        },
        "id": "-qAde2S8d-bR",
        "outputId": "0e4fae68-5c89-4faa-ca64-0f8241ea049c"
      },
      "execution_count": 9,
      "outputs": [
        {
          "name": "stdout",
          "output_type": "stream",
          "text": [
            "Token··········\n"
          ]
        }
      ]
    },
    {
      "cell_type": "markdown",
      "source": [
        "# Git and GitHub Exercise  \n",
        "This notebook demonstrates basic Git operations."
      ],
      "metadata": {
        "id": "4HoQwNVyq42i"
      }
    },
    {
      "cell_type": "markdown",
      "source": [
        "##  Python function"
      ],
      "metadata": {
        "id": "mqH98m4cG-V7"
      }
    },
    {
      "cell_type": "code",
      "source": [
        "def greet(name):\n",
        "    return f\"Hello, {name}! Welcome to Git and GitHub.\"\n",
        "print(greet(\"Learner\"))"
      ],
      "metadata": {
        "colab": {
          "base_uri": "https://localhost:8080/"
        },
        "id": "YQ_A6AUmrB0Q",
        "outputId": "0597b090-361a-4a98-d331-f75044b707ce"
      },
      "execution_count": 10,
      "outputs": [
        {
          "output_type": "stream",
          "name": "stdout",
          "text": [
            "Hello, Learner! Welcome to Git and GitHub.\n"
          ]
        }
      ]
    },
    {
      "cell_type": "markdown",
      "source": [
        "## Rename Branch to main"
      ],
      "metadata": {
        "id": "4YiVEA9zwXgr"
      }
    },
    {
      "cell_type": "code",
      "source": [
        "!git branch -m main"
      ],
      "metadata": {
        "id": "6KWzE6cSsg_a"
      },
      "execution_count": 11,
      "outputs": []
    },
    {
      "cell_type": "markdown",
      "source": [
        "## Verify Branch Name"
      ],
      "metadata": {
        "id": "Mqoum_uWwa6u"
      }
    },
    {
      "cell_type": "code",
      "source": [
        "!git branch"
      ],
      "metadata": {
        "colab": {
          "base_uri": "https://localhost:8080/"
        },
        "id": "zlm5IA0asm86",
        "outputId": "ca99ea96-2ebb-4458-de2e-3c8fa9559b78"
      },
      "execution_count": 12,
      "outputs": [
        {
          "output_type": "stream",
          "name": "stdout",
          "text": [
            "* \u001b[32mmain\u001b[m\n"
          ]
        }
      ]
    },
    {
      "cell_type": "markdown",
      "source": [
        "## Set main as the Default for Future Repositories (Optional)"
      ],
      "metadata": {
        "id": "HqEJUWBBBek5"
      }
    },
    {
      "cell_type": "code",
      "source": [
        "!git config --global init.defaultBranch main"
      ],
      "metadata": {
        "id": "GbFaLJphBY-F"
      },
      "execution_count": 13,
      "outputs": []
    },
    {
      "cell_type": "markdown",
      "source": [
        "## Commit and Push Changes"
      ],
      "metadata": {
        "id": "NytjXVxy9uNh"
      }
    },
    {
      "cell_type": "code",
      "source": [
        "!git add --all"
      ],
      "metadata": {
        "id": "qvnpbeHesJZk"
      },
      "execution_count": 14,
      "outputs": []
    },
    {
      "cell_type": "code",
      "source": [
        "!git add git_github_exercise.ipynb"
      ],
      "metadata": {
        "id": "W69rYqGJuhKX"
      },
      "execution_count": 15,
      "outputs": []
    },
    {
      "cell_type": "code",
      "source": [
        "!git commit -a -m\"Add initial notebook with greeting function\""
      ],
      "metadata": {
        "colab": {
          "base_uri": "https://localhost:8080/"
        },
        "id": "hq9AcK-hs7M3",
        "outputId": "5e2c2f0c-2226-4c6c-d6d1-7bf576897b37"
      },
      "execution_count": 16,
      "outputs": [
        {
          "output_type": "stream",
          "name": "stdout",
          "text": [
            "On branch main\n",
            "Your branch is up to date with 'origin/main'.\n",
            "\n",
            "nothing to commit, working tree clean\n"
          ]
        }
      ]
    },
    {
      "cell_type": "code",
      "source": [
        "!git status"
      ],
      "metadata": {
        "colab": {
          "base_uri": "https://localhost:8080/"
        },
        "id": "bBW4MZWZjcbw",
        "outputId": "a3b5a39c-ec56-4d87-ffa1-cc9c1361ca37"
      },
      "execution_count": 17,
      "outputs": [
        {
          "output_type": "stream",
          "name": "stdout",
          "text": [
            "On branch main\n",
            "Your branch is up to date with 'origin/main'.\n",
            "\n",
            "nothing to commit, working tree clean\n"
          ]
        }
      ]
    },
    {
      "cell_type": "code",
      "source": [
        "!git remote -v"
      ],
      "metadata": {
        "colab": {
          "base_uri": "https://localhost:8080/"
        },
        "id": "eS3UDb4zqWC6",
        "outputId": "2c8b1015-cf9c-4d1b-9ea4-ae3a52d28971"
      },
      "execution_count": 18,
      "outputs": [
        {
          "output_type": "stream",
          "name": "stdout",
          "text": [
            "origin\thttps://github.com/flaviarbatista/Assignments.git (fetch)\n",
            "origin\thttps://github.com/flaviarbatista/Assignments.git (push)\n"
          ]
        }
      ]
    },
    {
      "cell_type": "code",
      "source": [
        "!git fetch origin\n",
        "!git pull origin main"
      ],
      "metadata": {
        "colab": {
          "base_uri": "https://localhost:8080/"
        },
        "id": "S6jnEmAtIkYr",
        "outputId": "992da36a-4880-4573-c2d2-6be11a5d2fb9"
      },
      "execution_count": 19,
      "outputs": [
        {
          "output_type": "stream",
          "name": "stdout",
          "text": [
            "From https://github.com/flaviarbatista/Assignments\n",
            " * branch            main       -> FETCH_HEAD\n",
            "Already up to date.\n"
          ]
        }
      ]
    },
    {
      "cell_type": "code",
      "source": [
        "!git push https://$GHTOKEN@github.com/flaviarbatista/Assignments.git main"
      ],
      "metadata": {
        "colab": {
          "base_uri": "https://localhost:8080/"
        },
        "id": "B_0nUFB9wZ7x",
        "outputId": "7760248a-e22e-4358-9783-ca8b73e5ae0c"
      },
      "execution_count": 20,
      "outputs": [
        {
          "output_type": "stream",
          "name": "stdout",
          "text": [
            "Everything up-to-date\n"
          ]
        }
      ]
    },
    {
      "cell_type": "markdown",
      "source": [
        "## Create a Branch and Make Changes"
      ],
      "metadata": {
        "id": "Ht74tTciKLTA"
      }
    },
    {
      "cell_type": "markdown",
      "source": [
        "### Access new branch `feature-branch`"
      ],
      "metadata": {
        "id": "_wEhs-FKX-CQ"
      }
    },
    {
      "cell_type": "code",
      "source": [
        "!git checkout -b feature-branch"
      ],
      "metadata": {
        "colab": {
          "base_uri": "https://localhost:8080/"
        },
        "id": "UpvJBI2pWovN",
        "outputId": "15f91c84-ae4b-491d-969c-c6661261a0be"
      },
      "execution_count": 21,
      "outputs": [
        {
          "output_type": "stream",
          "name": "stdout",
          "text": [
            "Switched to a new branch 'feature-branch'\n"
          ]
        }
      ]
    },
    {
      "cell_type": "markdown",
      "source": [
        "### Verify branch names"
      ],
      "metadata": {
        "id": "3g-YIxx3X0pa"
      }
    },
    {
      "cell_type": "code",
      "source": [
        "!git branch"
      ],
      "metadata": {
        "colab": {
          "base_uri": "https://localhost:8080/"
        },
        "id": "9hIrKGAJG_wP",
        "outputId": "c13f1d92-d90f-4649-9ae7-878d966a3254"
      },
      "execution_count": 22,
      "outputs": [
        {
          "output_type": "stream",
          "name": "stdout",
          "text": [
            "* \u001b[32mfeature-branch\u001b[m\n",
            "  main\u001b[m\n"
          ]
        }
      ]
    },
    {
      "cell_type": "markdown",
      "source": [
        "# Add a new function"
      ],
      "metadata": {
        "id": "CKtaOryuKsL7"
      }
    },
    {
      "cell_type": "code",
      "source": [
        "def calculate_square(number):\n",
        "    return number ** 2\n",
        "\n",
        "calculate_square(5)"
      ],
      "metadata": {
        "colab": {
          "base_uri": "https://localhost:8080/"
        },
        "id": "wa4GXRsPK0ao",
        "outputId": "b8849076-eb01-4a58-b50b-c6f331f485ca"
      },
      "execution_count": 23,
      "outputs": [
        {
          "output_type": "execute_result",
          "data": {
            "text/plain": [
              "25"
            ]
          },
          "metadata": {},
          "execution_count": 23
        }
      ]
    },
    {
      "cell_type": "markdown",
      "source": [
        "## Commit and push the changes"
      ],
      "metadata": {
        "id": "cxfHlEJyMMcX"
      }
    },
    {
      "cell_type": "code",
      "source": [
        "!git status"
      ],
      "metadata": {
        "colab": {
          "base_uri": "https://localhost:8080/"
        },
        "id": "DP-Q5bQM4GOC",
        "outputId": "fa963295-b121-4341-aada-317b2334b6dd"
      },
      "execution_count": 24,
      "outputs": [
        {
          "output_type": "stream",
          "name": "stdout",
          "text": [
            "On branch feature-branch\n",
            "nothing to commit, working tree clean\n"
          ]
        }
      ]
    },
    {
      "cell_type": "code",
      "source": [
        "!git add git_github_exercise.ipynb"
      ],
      "metadata": {
        "id": "qKlW5YPdgJj7"
      },
      "execution_count": 25,
      "outputs": []
    },
    {
      "cell_type": "code",
      "source": [
        "!git commit -a -m \"Added square calculation function\""
      ],
      "metadata": {
        "colab": {
          "base_uri": "https://localhost:8080/"
        },
        "id": "VD8Hqa1qLxD7",
        "outputId": "f86db458-1b78-47f5-c618-d569bbdae76a"
      },
      "execution_count": 26,
      "outputs": [
        {
          "output_type": "stream",
          "name": "stdout",
          "text": [
            "On branch feature-branch\n",
            "nothing to commit, working tree clean\n"
          ]
        }
      ]
    },
    {
      "cell_type": "code",
      "source": [
        "!git checkout feature-branch"
      ],
      "metadata": {
        "colab": {
          "base_uri": "https://localhost:8080/"
        },
        "id": "Ojz_fBosyTrZ",
        "outputId": "7161b597-5985-40dd-fb36-2cdd85735094"
      },
      "execution_count": 27,
      "outputs": [
        {
          "output_type": "stream",
          "name": "stdout",
          "text": [
            "Already on 'feature-branch'\n"
          ]
        }
      ]
    },
    {
      "cell_type": "code",
      "source": [
        "!git push https://$GHTOKEN@github.com/flaviarbatista/Assignments.git HEAD:feature-branch-final"
      ],
      "metadata": {
        "colab": {
          "base_uri": "https://localhost:8080/"
        },
        "id": "kr3i5rNdMgks",
        "outputId": "2f54cb51-7472-42b7-b49c-b31aeb9bb860"
      },
      "execution_count": 28,
      "outputs": [
        {
          "output_type": "stream",
          "name": "stdout",
          "text": [
            "Total 0 (delta 0), reused 0 (delta 0), pack-reused 0\n",
            "remote: \n",
            "remote: Create a pull request for 'feature-branch-final' on GitHub by visiting:\u001b[K\n",
            "remote:      https://github.com/flaviarbatista/Assignments/pull/new/feature-branch-final\u001b[K\n",
            "remote: \n",
            "To https://github.com/flaviarbatista/Assignments.git\n",
            " * [new branch]      HEAD -> feature-branch-final\n"
          ]
        }
      ]
    },
    {
      "cell_type": "code",
      "source": [
        "os.environ.pop('GHTOKEN', None)\n",
        "print(\"GHTOKEN removed from the session.\")"
      ],
      "metadata": {
        "id": "WLgFD918503t"
      },
      "execution_count": null,
      "outputs": []
    }
  ]
}